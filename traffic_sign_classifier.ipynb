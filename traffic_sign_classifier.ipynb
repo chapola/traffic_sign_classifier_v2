{
 "cells": [
  {
   "cell_type": "markdown",
   "metadata": {
    "colab_type": "text",
    "id": "iegafiFRnDmc"
   },
   "source": [
    "# LeNet\n",
    "![LeNet Architecture](lenet.png)\n"
   ]
  },
  {
   "cell_type": "markdown",
   "metadata": {
    "colab_type": "text",
    "id": "A_ZniE-TnDmd"
   },
   "source": [
    "# Load the data\n",
    "Load the  data set, which come preloded with tesorflow"
   ]
  },
  {
   "cell_type": "code",
   "execution_count": 1,
   "metadata": {
    "colab": {},
    "colab_type": "code",
    "id": "3Rl5DDx5nDmh"
   },
   "outputs": [],
   "source": [
    "import pickle\n",
    "import csv\n",
    "import numpy as np\n",
    "import time\n",
    "\n",
    "tranning_file = 'datasets/traffic-signs-data/train.p'\n",
    "validation_file = 'datasets/traffic-signs-data/valid.p'\n",
    "test_file = 'datasets/traffic-signs-data/test.p'\n",
    "signname_file = 'datasets/signnames.csv'\n",
    "\n",
    "with open(tranning_file,mode='rb') as f:\n",
    "    train_data = pickle.load(f)\n",
    "with open(validation_file,mode='rb') as f:\n",
    "    valid_data = pickle.load(f)\n",
    "with open(test_file,mode='rb') as f:\n",
    "    test_data = pickle.load(f)\n",
    "with open(signname_file) as f:\n",
    "    f.readline()\n",
    "    signname = [row[1] for row in csv.reader(f)]\n",
    "\n",
    "X_train, y_train = train_data['features'], train_data['labels']\n",
    "X_valid, y_valid = valid_data['features'], valid_data['labels']\n",
    "X_test, y_test = test_data['features'], test_data['labels']\n",
    "\n",
    "assert(len(X_train)==len(y_train))\n",
    "assert(len(X_valid)==len(y_valid))\n",
    "assert(len(X_test)==len(y_test))\n"
   ]
  },
  {
   "cell_type": "code",
   "execution_count": 2,
   "metadata": {
    "colab": {
     "base_uri": "https://localhost:8080/",
     "height": 102
    },
    "colab_type": "code",
    "id": "2_ibpLVdmhcl",
    "outputId": "e927fefd-3fba-43ae-fde6-416f75156ba6"
   },
   "outputs": [
    {
     "name": "stdout",
     "output_type": "stream",
     "text": [
      "Number of training examples = 34799\n",
      "Number of valid examples = 4410\n",
      "Number of testing examples = 12630\n",
      "Image data shape = (32, 32, 3)\n",
      "Number of classes = 43\n"
     ]
    }
   ],
   "source": [
    "### Replace each question mark with the appropriate value. \n",
    "### Use python, pandas or numpy methods rather than hard coding the results\n",
    "\n",
    "# TODO: Number of training examples\n",
    "n_train = len(X_train)\n",
    "\n",
    "# TODO: Number of validation examples\n",
    "n_validation = len(X_valid)\n",
    "\n",
    "# TODO: Number of testing examples.\n",
    "n_test = len(X_test)\n",
    "\n",
    "# TODO: What's the shape of an traffic sign image?\n",
    "image_shape = X_train[0].shape\n",
    "\n",
    "# TODO: How many unique classes/labels there are in the dataset.\n",
    "# n_classes = len(signnames)\n",
    "n_classes = np.unique(y_train).size;\n",
    "\n",
    "\n",
    "print(\"Number of training examples =\", n_train)\n",
    "print(\"Number of valid examples =\", n_validation)\n",
    "print(\"Number of testing examples =\", n_test)\n",
    "print(\"Image data shape =\", image_shape)\n",
    "print(\"Number of classes =\", n_classes)"
   ]
  },
  {
   "cell_type": "markdown",
   "metadata": {
    "colab_type": "raw",
    "id": "YFvlXLJZnDmu"
   },
   "source": []
  },
  {
   "cell_type": "markdown",
   "metadata": {
    "colab_type": "text",
    "id": "ct8mKCHSnDnH"
   },
   "source": [
    "# Visiaulize the Data\n",
    "View a sample from the dataset"
   ]
  },
  {
   "cell_type": "code",
   "execution_count": 3,
   "metadata": {},
   "outputs": [
    {
     "data": {
      "text/html": [
       "<div>\n",
       "<style scoped>\n",
       "    .dataframe tbody tr th:only-of-type {\n",
       "        vertical-align: middle;\n",
       "    }\n",
       "\n",
       "    .dataframe tbody tr th {\n",
       "        vertical-align: top;\n",
       "    }\n",
       "\n",
       "    .dataframe thead th {\n",
       "        text-align: right;\n",
       "    }\n",
       "</style>\n",
       "<table border=\"1\" class=\"dataframe\">\n",
       "  <thead>\n",
       "    <tr style=\"text-align: right;\">\n",
       "      <th></th>\n",
       "      <th>ClassId</th>\n",
       "      <th>SignName</th>\n",
       "    </tr>\n",
       "  </thead>\n",
       "  <tbody>\n",
       "    <tr>\n",
       "      <th>0</th>\n",
       "      <td>0</td>\n",
       "      <td>Speed limit (20km/h)</td>\n",
       "    </tr>\n",
       "    <tr>\n",
       "      <th>1</th>\n",
       "      <td>1</td>\n",
       "      <td>Speed limit (30km/h)</td>\n",
       "    </tr>\n",
       "    <tr>\n",
       "      <th>2</th>\n",
       "      <td>2</td>\n",
       "      <td>Speed limit (50km/h)</td>\n",
       "    </tr>\n",
       "  </tbody>\n",
       "</table>\n",
       "</div>"
      ],
      "text/plain": [
       "   ClassId              SignName\n",
       "0        0  Speed limit (20km/h)\n",
       "1        1  Speed limit (30km/h)\n",
       "2        2  Speed limit (50km/h)"
      ]
     },
     "execution_count": 3,
     "metadata": {},
     "output_type": "execute_result"
    }
   ],
   "source": [
    "import pandas as pd\n",
    "# Load sign names file\n",
    "\n",
    "sign_names = pd.read_csv(signname_file)\n",
    "sign_names.set_index(\"ClassId\")\n",
    "\n",
    "sign_names.head(n=3)"
   ]
  },
  {
   "cell_type": "code",
   "execution_count": null,
   "metadata": {},
   "outputs": [],
   "source": []
  },
  {
   "cell_type": "code",
   "execution_count": 4,
   "metadata": {},
   "outputs": [
    {
     "name": "stdout",
     "output_type": "stream",
     "text": [
      "importing Jupyter notebook from helper.ipynb\n"
     ]
    },
    {
     "data": {
      "text/html": [
       "<div>\n",
       "<style scoped>\n",
       "    .dataframe tbody tr th:only-of-type {\n",
       "        vertical-align: middle;\n",
       "    }\n",
       "\n",
       "    .dataframe tbody tr th {\n",
       "        vertical-align: top;\n",
       "    }\n",
       "\n",
       "    .dataframe thead th {\n",
       "        text-align: right;\n",
       "    }\n",
       "</style>\n",
       "<table border=\"1\" class=\"dataframe\">\n",
       "  <thead>\n",
       "    <tr style=\"text-align: right;\">\n",
       "      <th></th>\n",
       "      <th>img_id</th>\n",
       "      <th>label_id</th>\n",
       "      <th>label_name</th>\n",
       "    </tr>\n",
       "  </thead>\n",
       "  <tbody>\n",
       "    <tr>\n",
       "      <th>0</th>\n",
       "      <td>0</td>\n",
       "      <td>41</td>\n",
       "      <td>End of no passing</td>\n",
       "    </tr>\n",
       "    <tr>\n",
       "      <th>1</th>\n",
       "      <td>1</td>\n",
       "      <td>41</td>\n",
       "      <td>End of no passing</td>\n",
       "    </tr>\n",
       "    <tr>\n",
       "      <th>2</th>\n",
       "      <td>2</td>\n",
       "      <td>41</td>\n",
       "      <td>End of no passing</td>\n",
       "    </tr>\n",
       "    <tr>\n",
       "      <th>3</th>\n",
       "      <td>3</td>\n",
       "      <td>41</td>\n",
       "      <td>End of no passing</td>\n",
       "    </tr>\n",
       "    <tr>\n",
       "      <th>4</th>\n",
       "      <td>4</td>\n",
       "      <td>41</td>\n",
       "      <td>End of no passing</td>\n",
       "    </tr>\n",
       "  </tbody>\n",
       "</table>\n",
       "</div>"
      ],
      "text/plain": [
       "   img_id  label_id         label_name\n",
       "0       0        41  End of no passing\n",
       "1       1        41  End of no passing\n",
       "2       2        41  End of no passing\n",
       "3       3        41  End of no passing\n",
       "4       4        41  End of no passing"
      ]
     },
     "execution_count": 4,
     "metadata": {},
     "output_type": "execute_result"
    }
   ],
   "source": [
    "import import_ipynb\n",
    "from helper import *\n",
    "X_train_id_to_label = group_img_id_to_lable(y_train, sign_names)\n",
    "\n",
    "# Let's print a few of those mappings now\n",
    "X_train_id_to_label.head(n=5)"
   ]
  },
  {
   "cell_type": "code",
   "execution_count": null,
   "metadata": {},
   "outputs": [],
   "source": []
  },
  {
   "cell_type": "code",
   "execution_count": 5,
   "metadata": {
    "colab": {
     "base_uri": "https://localhost:8080/",
     "height": 123
    },
    "colab_type": "code",
    "id": "6A71MsL0nDnI",
    "outputId": "1e0c9c87-7ba6-45ee-ac9e-aa758fc3e5a2"
   },
   "outputs": [
    {
     "name": "stdout",
     "output_type": "stream",
     "text": [
      "(32, 32, 3)\n",
      "33\n",
      "5\n",
      "2\n",
      "2\n",
      "25\n"
     ]
    },
    {
     "data": {
      "image/png": "[encoded data removed]",
      "text/plain": [
       "<Figure size 72x72 with 1 Axes>"
      ]
     },
     "metadata": {},
     "output_type": "display_data"
    },
    {
     "data": {
      "image/png": "[encoded data removed]",
      "text/plain": [
       "<Figure size 72x72 with 1 Axes>"
      ]
     },
     "metadata": {},
     "output_type": "display_data"
    },
    {
     "data": {
      "image/png": "[encoded data removed]",
      "text/plain": [
       "<Figure size 72x72 with 1 Axes>"
      ]
     },
     "metadata": {},
     "output_type": "display_data"
    },
    {
     "data": {
      "image/png": "[encoded data removed]",
      "text/plain": [
       "<Figure size 72x72 with 1 Axes>"
      ]
     },
     "metadata": {},
     "output_type": "display_data"
    },
    {
     "data": {
      "image/png": "[encoded data removed]",
      "text/plain": [
       "<Figure size 72x72 with 1 Axes>"
      ]
     },
     "metadata": {},
     "output_type": "display_data"
    }
   ],
   "source": [
    "import random\n",
    "import matplotlib.pyplot as plt\n",
    "import numpy as np\n",
    "%matplotlib inline\n",
    "print(X_train[1].shape)\n",
    "\n",
    "for i in range(5):\n",
    "    index = random.randint(0,len(X_train))\n",
    "    image = X_train[index].squeeze()\n",
    "    label = y_train[index]\n",
    "    plt.figure(figsize=(1,1))\n",
    "    plt.imshow(image)\n",
    "    print(label)\n"
   ]
  },
  {
   "cell_type": "markdown",
   "metadata": {
    "colab_type": "text",
    "id": "CyB173Y5nDnV"
   },
   "source": [
    "## Setup TensorFlow\n",
    "The `EPOCH` and `BATCH_SIZE` values affect the training speed and model accuracy."
   ]
  },
  {
   "cell_type": "code",
   "execution_count": 6,
   "metadata": {
    "colab": {},
    "colab_type": "code",
    "id": "Z_rdvEWdnDnW"
   },
   "outputs": [],
   "source": [
    "import tensorflow as tf\n",
    "EPOCHS=50\n",
    "BATCH_SIZE=128"
   ]
  },
  {
   "cell_type": "markdown",
   "metadata": {
    "colab_type": "text",
    "id": "kvAG-B6AnDnY"
   },
   "source": [
    "## SOLUTION:  LeNet-5\n",
    "Implement the [LeNet-5](http://yann.lecun.com/exdb/lenet/) neural network architecture.\n",
    "\n",
    "\n",
    "### Input\n",
    "The LeNet architecture accepts a 32x32xC image as input, where C is the number of color channels. Since MNIST images are grayscale, C is 1 in this case.\n",
    "\n",
    "### Architecture\n",
    "**Layer 1: Convolutional.** The output shape should be 28x28x6.\n",
    "\n",
    "**Activation.** Relu activation function.\n",
    "\n",
    "**Pooling.** The output shape should be 14x14x6.\n",
    "\n",
    "**Layer 2: Convolutional.** The output shape should be 10x10x16.\n",
    "\n",
    "**Activation.** Relu activation function.\n",
    "\n",
    "**Pooling.** The output shape should be 5x5x16.\n",
    "\n",
    "**Flatten.** Flatten the output shape of the final pooling layer such that it's 1D instead of 3D. The easiest way to do is by using `tf.contrib.layers.flatten`, which is already imported for you.\n",
    "\n",
    "**Layer 3: Fully Connected.** This should have 120 outputs.\n",
    "\n",
    "**Activation.** Relu activation function.\n",
    "\n",
    "**Layer 4: Fully Connected.** This should have 84 outputs.\n",
    "\n",
    "**Activation.** Relu activation function.\n",
    "\n",
    "**Layer 5: Fully Connected (Logits).** This should have 10 outputs.\n",
    "\n",
    "### Output\n",
    "Return the result of the 2nd fully connected layer."
   ]
  },
  {
   "cell_type": "code",
   "execution_count": 7,
   "metadata": {
    "colab": {},
    "colab_type": "code",
    "id": "UzCvzN1onDnZ"
   },
   "outputs": [],
   "source": [
    "from tensorflow.contrib.layers import flatten\n",
    "\n",
    "def LeNet(x):\n",
    "    # Arguments used for tf.truncated_normal, randomly defines variables for the weights and biases for each layer\n",
    "    mu = 0\n",
    "    sigma = 0.1\n",
    "    #Layer 1 - Convolution Input 32x32x3, Output 28x28x6\n",
    "    conv1_W=tf.Variable(tf.truncated_normal(shape=(5,5,1,6),mean=mu,stddev=sigma))\n",
    "    conv1_b=tf.Variable(tf.zeros(6))\n",
    "    conv1=tf.nn.conv2d(x,conv1_W,strides=[1,1,1,1],padding='VALID')+conv1_b\n",
    "    \n",
    "    # Activation Relu\n",
    "    conv1=tf.nn.relu(conv1)\n",
    "    \n",
    "    #  Pooling. Input = 28x28x6. Output = 14x14x6.\n",
    "    conv1 = tf.nn.max_pool(conv1,ksize=[1,2,2,1],strides=[1,2,2,1],padding='VALID')\n",
    "    \n",
    "    \n",
    "     #Layer 2 - Convolution Input 14x14x6, Output 10x10x16\n",
    "    conv2_W=tf.Variable(tf.truncated_normal(shape=(5,5,6,16),mean=mu,stddev=sigma))\n",
    "    conv2_b=tf.Variable(tf.zeros(16))\n",
    "    conv2=tf.nn.conv2d(conv1,conv2_W,strides=[1,1,1,1],padding='VALID')+conv2_b\n",
    "    \n",
    "    # Activation Relu\n",
    "    conv2=tf.nn.relu(conv2)\n",
    "    \n",
    "    #  Pooling. Input = 10x10x16. Output = 5x5x16.\n",
    "    conv2 = tf.nn.max_pool(conv2,ksize=[1,2,2,1],strides=[1,2,2,1],padding='VALID')\n",
    "    \n",
    "    \n",
    "      #  Flatten. Input = 5x5x16. Output = 400.\n",
    "    fc0 = flatten(conv2)\n",
    "    \n",
    "    \n",
    "    #  Layer 3: Fully Connected. Input = 400. Output = 120.\n",
    "    fc1_W=tf.Variable(tf.truncated_normal(shape=(400,120),mean=mu,stddev=sigma))\n",
    "    fc1_b=tf.Variable(tf.zeros(120))\n",
    "    fc1=tf.matmul(fc0,fc1_W)+fc1_b\n",
    "    \n",
    "    \n",
    "    #Activation Relu\n",
    "    fc1=tf.nn.relu(fc1)\n",
    "    \n",
    "    \n",
    "    \n",
    "     #  Layer 4: Fully Connected. Input = 120. Output = 84.\n",
    "    fc2_W=tf.Variable(tf.truncated_normal(shape=(120,84),mean=mu,stddev=sigma))\n",
    "    fc2_b=tf.Variable(tf.zeros(84))\n",
    "    fc2=tf.matmul(fc1,fc2_W)+fc2_b\n",
    "    \n",
    "    \n",
    "    #Activation Relu\n",
    "    fc2=tf.nn.relu(fc2)\n",
    "    \n",
    "    \n",
    "     #  Layer 5: Fully Connected. Input = 84. Output = 10\n",
    "        \n",
    "    fc3_W=tf.Variable(tf.truncated_normal(shape=(84,43),mean=mu,stddev=sigma))\n",
    "    fc3_b=tf.Variable(tf.zeros(43))\n",
    "    logits=tf.matmul(fc2,fc3_W)+fc3_b\n",
    "    \n",
    "    return logits\n",
    "    "
   ]
  },
  {
   "cell_type": "markdown",
   "metadata": {
    "colab_type": "text",
    "id": "AXMrPWIznDnN"
   },
   "source": [
    "# Preprocess the data\n",
    " shuffle the tranning data"
   ]
  },
  {
   "cell_type": "code",
   "execution_count": 8,
   "metadata": {
    "colab": {
     "base_uri": "https://localhost:8080/",
     "height": 524
    },
    "colab_type": "code",
    "id": "f7b_CmsR67fi",
    "outputId": "b7851d5c-ef4a-4a87-f7ad-afd953391b64"
   },
   "outputs": [
    {
     "data": {
      "text/plain": [
       "(array([  180.,  1980.,  2010.,  1260.,  1770.,  1650.,   360.,  1290.,\n",
       "         1260.,  1320.,  1800.,  1170.,  1890.,  1920.,   690.,   540.,\n",
       "          360.,   990.,  1080.,   180.,   300.,   270.,   330.,   450.,\n",
       "          240.,  1350.,   540.,   210.,   480.,   240.,   390.,   690.,\n",
       "          210.,   599.,   360.,  1080.,   330.,   180.,  1860.,   270.,\n",
       "          300.,   210.,   210.]),\n",
       " array([  0.        ,   0.97674419,   1.95348837,   2.93023256,\n",
       "          3.90697674,   4.88372093,   5.86046512,   6.8372093 ,\n",
       "          7.81395349,   8.79069767,   9.76744186,  10.74418605,\n",
       "         11.72093023,  12.69767442,  13.6744186 ,  14.65116279,\n",
       "         15.62790698,  16.60465116,  17.58139535,  18.55813953,\n",
       "         19.53488372,  20.51162791,  21.48837209,  22.46511628,\n",
       "         23.44186047,  24.41860465,  25.39534884,  26.37209302,\n",
       "         27.34883721,  28.3255814 ,  29.30232558,  30.27906977,\n",
       "         31.25581395,  32.23255814,  33.20930233,  34.18604651,\n",
       "         35.1627907 ,  36.13953488,  37.11627907,  38.09302326,\n",
       "         39.06976744,  40.04651163,  41.02325581,  42.        ]),\n",
       " <a list of 43 Patch objects>)"
      ]
     },
     "execution_count": 8,
     "metadata": {},
     "output_type": "execute_result"
    },
    {
     "data": {
      "image/png": "[encoded data removed]",
      "text/plain": [
       "<Figure size 432x288 with 1 Axes>"
      ]
     },
     "metadata": {},
     "output_type": "display_data"
    }
   ],
   "source": [
    "### Data exploration visualization code goes here.\n",
    "### Feel free to use as many code cells as needed.\n",
    "import matplotlib.pyplot as plt\n",
    "import numpy as np\n",
    "import random\n",
    "# Visualizations will be shown in the notebook.\n",
    "%matplotlib inline\n",
    "plt.hist(y_train, bins=43)"
   ]
  },
  {
   "cell_type": "code",
   "execution_count": 9,
   "metadata": {
    "colab": {
     "base_uri": "https://localhost:8080/",
     "height": 119
    },
    "colab_type": "code",
    "id": "D4S0z_RwcIUq",
    "outputId": "9be4940b-d5a1-4408-8772-76a84312be2d"
   },
   "outputs": [
    {
     "name": "stdout",
     "output_type": "stream",
     "text": [
      "[ 180 1980 2010 1260 1770 1650  360 1290 1260 1320 1800 1170 1890 1920  690\n",
      "  540  360  990 1080  180  300  270  330  450  240 1350  540  210  480  240\n",
      "  390  690  210  599  360 1080  330  180 1860  270  300  210  210]\n",
      "809\n",
      "Additional data generated..\n"
     ]
    }
   ],
   "source": [
    "from scipy import ndimage\n",
    "import random\n",
    "n_class = 43\n",
    "# Genrate Addtional Data\n",
    "\n",
    "images_in_class = np.bincount(y_train)\n",
    "print(images_in_class)\n",
    "\n",
    "# Find the mean \n",
    "images_mean = int(np.mean(images_in_class))\n",
    "print(images_mean)\n",
    "\n",
    "# Generating new data to balance the datasets\n",
    "#Angles used to rotate the images\n",
    "angles =[10,-10,15,-15,20,-20]\n",
    "\n",
    "# Iteate throught each classes\n",
    "for i in range(n_class):\n",
    "    \n",
    "    if images_in_class[i]<images_mean:\n",
    "    #Find the delta\n",
    "        delta = images_mean-(images_in_class[i])\n",
    "        picture = np.where(y_train==i)\n",
    "\n",
    "        more_X=[]\n",
    "        more_Y=[]\n",
    "\n",
    "\n",
    "        for num in range(delta):\n",
    "\n",
    "          #rotate the image and add to more_X and class to more_y\n",
    "          more_X.append(ndimage.rotate(X_train[picture][random.randint(0,images_in_class[i]-1)],random.choice(angles),reshape=False))\n",
    "          #Appned the pictures generated back to each class to original data\n",
    "          more_Y.append(i)\n",
    "\n",
    "    X_train = np.append(X_train,np.array(more_X),axis=0)\n",
    "    y_train = np.append(y_train, np.array(more_Y),axis=0)\n",
    "# Addtional data genrated\n",
    "print('Additional data generated..')\n",
    "  "
   ]
  },
  {
   "cell_type": "code",
   "execution_count": 10,
   "metadata": {
    "colab": {
     "base_uri": "https://localhost:8080/",
     "height": 524
    },
    "colab_type": "code",
    "id": "31oNbprjiTqf",
    "outputId": "c907a185-c21e-4592-ed9a-53f92d3c3979"
   },
   "outputs": [
    {
     "data": {
      "text/plain": [
       "(array([ 3954.,  1980.,  2010.,  1260.,  1770.,  1650.,  3952.,  1290.,\n",
       "         1260.,  1320.,  1800.,  1170.,  1890.,  1920.,   809.,   809.,\n",
       "         1707.,   990.,  1080.,   809.,   809.,   809.,   809.,   809.,\n",
       "         1378.,  1350.,   809.,   809.,   809.,   809.,   809.,   809.,\n",
       "          809.,   809.,  1258.,  1080.,   809.,  1438.,  1860.,   809.,\n",
       "          809.,   809.,   809.]),\n",
       " array([  0.        ,   0.97674419,   1.95348837,   2.93023256,\n",
       "          3.90697674,   4.88372093,   5.86046512,   6.8372093 ,\n",
       "          7.81395349,   8.79069767,   9.76744186,  10.74418605,\n",
       "         11.72093023,  12.69767442,  13.6744186 ,  14.65116279,\n",
       "         15.62790698,  16.60465116,  17.58139535,  18.55813953,\n",
       "         19.53488372,  20.51162791,  21.48837209,  22.46511628,\n",
       "         23.44186047,  24.41860465,  25.39534884,  26.37209302,\n",
       "         27.34883721,  28.3255814 ,  29.30232558,  30.27906977,\n",
       "         31.25581395,  32.23255814,  33.20930233,  34.18604651,\n",
       "         35.1627907 ,  36.13953488,  37.11627907,  38.09302326,\n",
       "         39.06976744,  40.04651163,  41.02325581,  42.        ]),\n",
       " <a list of 43 Patch objects>)"
      ]
     },
     "execution_count": 10,
     "metadata": {},
     "output_type": "execute_result"
    },
    {
     "data": {
      "image/png": "[encoded data removed]",
      "text/plain": [
       "<Figure size 432x288 with 1 Axes>"
      ]
     },
     "metadata": {},
     "output_type": "display_data"
    }
   ],
   "source": [
    "plt.hist(y_train, bins = 43)"
   ]
  },
  {
   "cell_type": "code",
   "execution_count": 11,
   "metadata": {
    "colab": {},
    "colab_type": "code",
    "id": "zbTeWhta3mnu"
   },
   "outputs": [],
   "source": [
    "## Preprocess the data\n",
    "import cv2\n",
    "def normalize(image_data):\n",
    "    return image_data.astype(np.float32)/128.-1.\n",
    "def grayscale(image):\n",
    "    image = cv2.cvtColor(image, cv2.COLOR_BGR2GRAY)\n",
    "    return image\n",
    "def preprocess(data):\n",
    "    gray_images=[]\n",
    "    for image in data:\n",
    "        gray_img=grayscale(image)\n",
    "        gray_images.append(gray_img)\n",
    "    print(\"Gray scale conversion completed\")\n",
    "    return np.array(gray_images)\n",
    "\n",
    "    "
   ]
  },
  {
   "cell_type": "code",
   "execution_count": 12,
   "metadata": {
    "colab": {
     "base_uri": "https://localhost:8080/",
     "height": 68
    },
    "colab_type": "code",
    "id": "dbacxivC3mnx",
    "outputId": "ea9c6285-9f1d-46c7-afef-777ec49f903f"
   },
   "outputs": [
    {
     "name": "stdout",
     "output_type": "stream",
     "text": [
      "Gray scale conversion completed\n",
      "Gray scale conversion completed\n",
      "Shape of Image = (32, 32, 1)\n"
     ]
    }
   ],
   "source": [
    "from numpy import newaxis\n",
    "X_train = preprocess(X_train)\n",
    "X_train = X_train[..., newaxis]\n",
    "x_train = normalize(X_train)\n",
    "\n",
    "X_test = preprocess(X_test)\n",
    "X_test = X_test[..., newaxis]\n",
    "X_test = normalize(X_test)\n",
    "\n",
    "# X_valid = preprocess(X_valid)\n",
    "# X_valid = X_valid[..., newaxis]\n",
    "# X_valid = normalize(X_valid)\n",
    "\n",
    "print(\"Shape of Image = {}\".format(X_train[0].shape))"
   ]
  },
  {
   "cell_type": "code",
   "execution_count": 13,
   "metadata": {
    "colab": {
     "base_uri": "https://localhost:8080/",
     "height": 85
    },
    "colab_type": "code",
    "id": "atYQ_I8-nDnS",
    "outputId": "6dbd7401-5c73-47bf-b193-5c875a7a7834"
   },
   "outputs": [
    {
     "name": "stdout",
     "output_type": "stream",
     "text": [
      "Dataset successfully split for training and validation.\n",
      "Number of training examples = 34799\n",
      "Number of valid examples = 4410\n",
      "Number of testing examples = 12630\n"
     ]
    }
   ],
   "source": [
    "# Splitting the training dataset into training and validation data\n",
    "from sklearn.model_selection import train_test_split\n",
    "from sklearn.utils import shuffle\n",
    "\n",
    "# Shuffle the data prior to splitting\n",
    "X_train, y_train = shuffle(X_train, y_train)\n",
    "\n",
    "X_train, X_valid, y_train, y_valid = train_test_split(X_train, y_train, stratify = y_train, test_size=0.1, random_state=23)\n",
    "\n",
    "print('Dataset successfully split for training and validation.')\n",
    "\n",
    "print(\"Number of training examples = {}\" .format(n_train))\n",
    "print(\"Number of valid examples = {}\" .format(n_validation))\n",
    "print(\"Number of testing examples = {}\" .format(n_test))\n"
   ]
  },
  {
   "cell_type": "markdown",
   "metadata": {
    "colab_type": "text",
    "id": "vP-OoMqWnDnc"
   },
   "source": [
    "## Features and Labels\n",
    "Train LeNet to classify [MNIST](http://yann.lecun.com/exdb/mnist/) data.\n",
    "\n",
    "`x` is a placeholder for a batch of input images.\n",
    "`y` is a placeholder for a batch of output labels.\n"
   ]
  },
  {
   "cell_type": "code",
   "execution_count": 14,
   "metadata": {
    "colab": {},
    "colab_type": "code",
    "id": "DiDdb230nDnc"
   },
   "outputs": [],
   "source": [
    "import tensorflow as tf\n",
    "x = tf.placeholder(tf.float32,shape=(None,32,32,1))\n",
    "y=tf.placeholder(tf.int32,None)\n",
    "one_hot_y=tf.one_hot(y,43)\n"
   ]
  },
  {
   "cell_type": "markdown",
   "metadata": {
    "colab_type": "text",
    "id": "UIkf-E0knDnm"
   },
   "source": [
    "## Training Pipeline\n",
    "Create a training pipeline that uses the model to classify MNIST data."
   ]
  },
  {
   "cell_type": "code",
   "execution_count": 16,
   "metadata": {
    "colab": {
     "base_uri": "https://localhost:8080/",
     "height": 144
    },
    "colab_type": "code",
    "id": "IvK4QA-GnDnt",
    "outputId": "c8fe3ec5-512f-4dab-9c48-7fa917bf28d3"
   },
   "outputs": [],
   "source": [
    "learning_rate=0.001\n",
    "logits = LeNet(x)\n",
    "cross_entropy =tf.nn.softmax_cross_entropy_with_logits(logits=logits,labels=one_hot_y)\n",
    "loss_operation = tf.reduce_mean(cross_entropy)\n",
    "optimizer = tf.train.AdamOptimizer(learning_rate=learning_rate)\n",
    "training_operation = optimizer.minimize(loss_operation)"
   ]
  },
  {
   "cell_type": "markdown",
   "metadata": {
    "colab_type": "text",
    "id": "xUtrYsuLnDnx"
   },
   "source": [
    "# Model Evaluation\n",
    "Evaluate how well the loss and accuracy of the model for a given dataset.\n"
   ]
  },
  {
   "cell_type": "code",
   "execution_count": 17,
   "metadata": {
    "colab": {},
    "colab_type": "code",
    "id": "HjlCdBPwnDnx"
   },
   "outputs": [],
   "source": [
    "correct_prediction = tf.equal(tf.argmax(logits,1),tf.argmax(one_hot_y,1))\n",
    "accuracy_operation = tf.reduce_mean(tf.cast(correct_prediction,tf.float32))\n",
    "\n",
    "def evaluate(X_data, y_data,batch_size):\n",
    "    num_examples = len(X_data)\n",
    "    total_accuracy = 0\n",
    "    total_loss = 0.0\n",
    "    sess = tf.get_default_session()\n",
    "    \n",
    "    for offset in range(0, num_examples, batch_size):\n",
    "        batch_x, batch_y = X_data[offset:offset+batch_size], y_data[offset:offset+batch_size]\n",
    "        # Compute both accuracy and loss for this batch\n",
    "        accuracy = sess.run(accuracy_operation,\n",
    "                            feed_dict={x: batch_x, y: batch_y}\n",
    "                           )\n",
    "        \n",
    "        loss = sess.run(loss_operation,\n",
    "                        feed_dict={x: batch_x, y: batch_y}\n",
    "                       )\n",
    "        # Weighting accuracy by the total number of elements in batch\n",
    "        total_accuracy += (accuracy * len(batch_x))\n",
    "        total_loss += (loss * len(batch_x))\n",
    "        \n",
    "    # To produce a true mean accuracy over whole dataset\n",
    "    return (total_accuracy / num_examples,total_loss/num_examples)\n",
    "             "
   ]
  },
  {
   "cell_type": "markdown",
   "metadata": {
    "colab_type": "text",
    "id": "TTzU6SXknDnz"
   },
   "source": [
    "## Train the Model\n",
    "Run the training data through the training pipeline to train the model.\n",
    "\n",
    "Before each epoch, shuffle the training set.\n",
    "\n",
    "After each epoch, measure the loss and accuracy of the validation set.\n",
    "\n",
    "Save the model after training."
   ]
  },
  {
   "cell_type": "code",
   "execution_count": null,
   "metadata": {
    "colab": {},
    "colab_type": "code",
    "id": "eqhUIzYi1fPx"
   },
   "outputs": [],
   "source": [
    " "
   ]
  },
  {
   "cell_type": "code",
   "execution_count": 20,
   "metadata": {
    "colab": {},
    "colab_type": "code",
    "id": "RKxfkdSK17bh"
   },
   "outputs": [],
   "source": [
    "def train_model(X_train_features,y_train_labels,X_valid_features,y_valid_labels,batch_size,epochs=10,print_freq=1):\n",
    "    \n",
    "    # Create our array of metrics    \n",
    "    training_metrics = np.zeros((epochs, 3))\n",
    "    validation_metrics = np.zeros((epochs, 3))\n",
    "    with tf.Session() as sess:\n",
    "        sess.run(tf.global_variables_initializer())\n",
    "        num_examples = len(X_train_features)\n",
    "\n",
    "        print(\"Training {0} [epochs={1}, batch_size={2}]...\\n\".format(\"Tranning\", epochs, batch_size))\n",
    "\n",
    "        for i in range(epochs):\n",
    "            start_time=time.time()\n",
    "\n",
    "            X_train, y_train = shuffle(X_train_features, y_train_labels)\n",
    "            for offset in range(0, num_examples, batch_size):\n",
    "                end = offset + batch_size\n",
    "                batch_x, batch_y = X_train[offset:end], y_train[offset:end]\n",
    "                sess.run(training_operation, feed_dict={x: batch_x, y: batch_y})\n",
    "            end_training_time = time.time()\n",
    "            training_duration = end_training_time - start_time\n",
    "\n",
    "            end_epoch_time = time.time()            \n",
    "            validation_duration = end_epoch_time - end_training_time   \n",
    "            epoch_duration = end_epoch_time - start_time\n",
    "\n",
    "\n",
    "            #Computing Tranning accuracy and tranning loss\n",
    "            training_accuracy,training_loss = evaluate(X_train, y_train,batch_size)\n",
    "            validation_accuracy,validation_loss = evaluate(X_valid_features, y_valid_labels,batch_size)\n",
    "\n",
    "            if i==0 or (i+1)%print_freq==0:\n",
    "                print(\"[{0}]\\ttotal={1:.3f}s | train: time={2:.3f}s, loss={3:.4f}, acc={4:.4f} | val: time={5:.3f}s, loss={6:.4f}, acc={7:.4f}\".format(\n",
    "                              i+1, epoch_duration, training_duration, training_loss, training_accuracy, \n",
    "                            validation_duration, validation_loss, validation_accuracy))\n",
    "            training_metrics[i] = [training_duration, training_loss, training_accuracy]\n",
    "            validation_metrics[i] = [validation_duration, validation_loss, validation_accuracy]\n",
    "#       print(\"EPOCH {} ...\".format(i+1))\n",
    "#       print(\"Validation Accuracy = {:.3f} \".format(validation_accuracy))\n",
    "#       print(\"Loss = {:.3f} \".format(tranning_loss))\n",
    "#       print()\n",
    "\n",
    "    return (training_metrics, validation_metrics, epoch_duration)\n"
   ]
  },
  {
   "cell_type": "code",
   "execution_count": 27,
   "metadata": {
    "colab": {
     "base_uri": "https://localhost:8080/",
     "height": 1751
    },
    "colab_type": "code",
    "id": "fH_es22w-wGS",
    "outputId": "ec9af908-5512-4b04-be66-07faaa43b51f"
   },
   "outputs": [
    {
     "name": "stdout",
     "output_type": "stream",
     "text": [
      "Training Tranning [epochs=20, batch_size=128]...\n",
      "\n",
      "[1]\ttotal=25.603s | train: time=25.603s, loss=0.4611, acc=0.8745 | val: time=0.000s, loss=0.5026, acc=0.8630\n",
      "[2]\ttotal=24.969s | train: time=24.969s, loss=0.2721, acc=0.9284 | val: time=0.000s, loss=0.2965, acc=0.9249\n",
      "[3]\ttotal=25.491s | train: time=25.491s, loss=0.1672, acc=0.9546 | val: time=0.000s, loss=0.2074, acc=0.9449\n",
      "[4]\ttotal=25.908s | train: time=25.908s, loss=0.1110, acc=0.9703 | val: time=0.000s, loss=0.1540, acc=0.9627\n",
      "[5]\ttotal=26.768s | train: time=26.768s, loss=0.1276, acc=0.9640 | val: time=0.000s, loss=0.1824, acc=0.9537\n",
      "[6]\ttotal=26.524s | train: time=26.524s, loss=0.0671, acc=0.9803 | val: time=0.000s, loss=0.1245, acc=0.9692\n",
      "[7]\ttotal=26.633s | train: time=26.633s, loss=0.0600, acc=0.9832 | val: time=0.000s, loss=0.1236, acc=0.9685\n",
      "[8]\ttotal=26.132s | train: time=26.132s, loss=0.0595, acc=0.9836 | val: time=0.000s, loss=0.1103, acc=0.9692\n",
      "[9]\ttotal=27.038s | train: time=27.038s, loss=0.0508, acc=0.9862 | val: time=0.000s, loss=0.1205, acc=0.9708\n",
      "[10]\ttotal=27.264s | train: time=27.264s, loss=0.0384, acc=0.9895 | val: time=0.000s, loss=0.0938, acc=0.9770\n",
      "[11]\ttotal=25.754s | train: time=25.754s, loss=0.0399, acc=0.9888 | val: time=0.000s, loss=0.1186, acc=0.9725\n",
      "[12]\ttotal=25.493s | train: time=25.493s, loss=0.0409, acc=0.9882 | val: time=0.000s, loss=0.1225, acc=0.9770\n",
      "[13]\ttotal=26.242s | train: time=26.242s, loss=0.0715, acc=0.9827 | val: time=0.000s, loss=0.1569, acc=0.9687\n",
      "[14]\ttotal=26.341s | train: time=26.341s, loss=0.0445, acc=0.9879 | val: time=0.000s, loss=0.1154, acc=0.9753\n",
      "[15]\ttotal=26.361s | train: time=26.361s, loss=0.0222, acc=0.9932 | val: time=0.000s, loss=0.0728, acc=0.9836\n",
      "[16]\ttotal=26.826s | train: time=26.826s, loss=0.0246, acc=0.9932 | val: time=0.000s, loss=0.0942, acc=0.9818\n",
      "[17]\ttotal=25.542s | train: time=25.542s, loss=0.0343, acc=0.9899 | val: time=0.000s, loss=0.0947, acc=0.9784\n",
      "[18]\ttotal=26.299s | train: time=26.299s, loss=0.0165, acc=0.9954 | val: time=0.000s, loss=0.0928, acc=0.9842\n",
      "[19]\ttotal=26.306s | train: time=26.306s, loss=0.0494, acc=0.9877 | val: time=0.000s, loss=0.1344, acc=0.9744\n",
      "[20]\ttotal=26.679s | train: time=26.679s, loss=0.0303, acc=0.9921 | val: time=0.000s, loss=0.1003, acc=0.9784\n"
     ]
    }
   ],
   "source": [
    "import time\n",
    "\n",
    "(g_3x3_tr_metrics, g_3x3_val_metrics, g_3x3_duration)=train_model(X_train_features=X_train,y_train_labels=y_train,X_valid_features=X_valid,y_valid_labels=y_valid,batch_size=BATCH_SIZE,epochs=20)\n",
    "\n",
    "\n",
    "\n"
   ]
  },
  {
   "cell_type": "code",
   "execution_count": 28,
   "metadata": {
    "colab": {},
    "colab_type": "code",
    "id": "lQkSxwENMi08"
   },
   "outputs": [],
   "source": [
    "def plot_model_results(metrics, axes, lbs, xlb, ylb, titles, fig_title, fig_size=(7, 5), epochs_interval=1):\n",
    "    \"\"\"\n",
    "    Nifty utility function to plot results of the execution of our model\n",
    "    \"\"\"\n",
    "    fig, axs = plt.subplots(nrows=1, ncols=len(axes), figsize=fig_size)\n",
    "    print(\"Length of axis: {0}\".format(axs.shape))\n",
    "    \n",
    "    total_epochs = metrics[0].shape[0]\n",
    "    print('total_epochs:::',total_epochs)\n",
    "    x_values = np.linspace(1, total_epochs, num=total_epochs, dtype=np.int32)\n",
    "    \n",
    "    for m, l in zip(metrics, lbs):\n",
    "        for i in range(0, len(axes)):\n",
    "            ax = axs[i]\n",
    "            axis = axes[i]\n",
    "            ax.plot(x_values, m[:, axis], linewidth=2, label=l)\n",
    "            ax.set(xlabel=xlb[i], ylabel=ylb[i], title=titles[i])\n",
    "            ax.xaxis.set_ticks(np.linspace(1, total_epochs, num=int(total_epochs/epochs_interval), dtype=np.int32))\n",
    "            ax.legend(loc='center right')\n",
    "    \n",
    "    plt.suptitle(fig_title, fontsize=14, fontweight='bold')\n",
    "    plt.show()\n",
    "\n"
   ]
  },
  {
   "cell_type": "code",
   "execution_count": 29,
   "metadata": {
    "colab": {
     "base_uri": "https://localhost:8080/",
     "height": 424
    },
    "colab_type": "code",
    "id": "D4wptg74LN_x",
    "outputId": "655d710e-1d5d-43d0-f771-6c86eb740484"
   },
   "outputs": [
    {
     "name": "stdout",
     "output_type": "stream",
     "text": [
      "Length of axis: (2,)\n",
      "total_epochs::: 20\n"
     ]
    },
    {
     "data": {
      "image/png": "[encoded data removed]",
      "text/plain": [
       "<Figure size 1224x360 with 2 Axes>"
      ]
     },
     "metadata": {},
     "output_type": "display_data"
    }
   ],
   "source": [
    "metrics_arr = [g_3x3_tr_metrics,g_3x3_val_metrics]\n",
    "# print(g_3x3_val_metrics)\n",
    "matrics_lables = [\"3x3 Tranning\",\"3x3 Validation\"]\n",
    "plot_model_results(metrics_arr, [2, 1], matrics_lables, [\"Epochs\", \"Epochs\"], [\"Accuracy\", \"Loss\"], \n",
    "                   [\"Accuracy vs Epochs\", \n",
    "                    \"Loss vs Epochs\"],\n",
    "                   \"Color  - Accuracy and Loss of models on sample set\"\n",
    "                    , fig_size=(17, 5))     "
   ]
  },
  {
   "cell_type": "code",
   "execution_count": null,
   "metadata": {
    "colab": {},
    "colab_type": "code",
    "id": "hQGs4OwKnDn0"
   },
   "outputs": [],
   "source": []
  },
  {
   "cell_type": "code",
   "execution_count": null,
   "metadata": {
    "colab": {},
    "colab_type": "code",
    "id": "_4SjCm1PnDn3"
   },
   "outputs": [],
   "source": []
  }
 ],
 "metadata": {
  "accelerator": "GPU",
  "colab": {
   "name": "traffic_sign_classifier.ipynb",
   "provenance": [],
   "toc_visible": true,
   "version": "0.3.2"
  },
  "kernelspec": {
   "display_name": "Python 3",
   "language": "python",
   "name": "python3"
  },
  "language_info": {
   "codemirror_mode": {
    "name": "ipython",
    "version": 3
   },
   "file_extension": ".py",
   "mimetype": "text/x-python",
   "name": "python",
   "nbconvert_exporter": "python",
   "pygments_lexer": "ipython3",
   "version": "3.5.2"
  },
  "widgets": {
   "state": {},
   "version": "1.1.2"
  }
 },
 "nbformat": 4,
 "nbformat_minor": 1
}
