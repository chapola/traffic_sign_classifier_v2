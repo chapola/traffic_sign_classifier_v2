{
 "cells": [
  {
   "cell_type": "markdown",
   "metadata": {
    "colab_type": "text",
    "id": "iegafiFRnDmc"
   },
   "source": [
    "# LeNet\n",
    "![LeNet Architecture](lenet.png)\n"
   ]
  },
  {
   "cell_type": "markdown",
   "metadata": {
    "colab_type": "text",
    "id": "A_ZniE-TnDmd"
   },
   "source": [
    "# Load the data\n",
    "Load the MNIST data, which come preloded with tesorflow"
   ]
  },
  {
   "cell_type": "code",
   "execution_count": 0,
   "metadata": {
    "colab": {},
    "colab_type": "code",
    "id": "3Rl5DDx5nDmh"
   },
   "outputs": [],
   "source": [
    "import pickle\n",
    "import csv\n",
    "import numpy as np\n",
    "import time\n",
    "\n",
    "tranning_file = 'datasets/train.p'\n",
    "validation_file = 'datasets/valid.p'\n",
    "test_file = 'datasets/test.p'\n",
    "signname_file = 'datasets/signnames.csv'\n",
    "\n",
    "with open(tranning_file,mode='rb') as f:\n",
    "    train_data = pickle.load(f)\n",
    "with open(validation_file,mode='rb') as f:\n",
    "    valid_data = pickle.load(f)\n",
    "with open(test_file,mode='rb') as f:\n",
    "    test_data = pickle.load(f)\n",
    "with open(signname_file) as f:\n",
    "    f.readline()\n",
    "    signname = [row[1] for row in csv.reader(f)]\n",
    "\n",
    "X_train, y_train = train_data['features'], train_data['labels']\n",
    "X_valid, y_valid = valid_data['features'], valid_data['labels']\n",
    "X_test, y_test = test_data['features'], test_data['labels']\n",
    "\n",
    "assert(len(X_train)==len(y_train))\n",
    "assert(len(X_valid)==len(y_valid))\n",
    "assert(len(X_test)==len(y_test))\n"
   ]
  },
  {
   "cell_type": "code",
   "execution_count": 2,
   "metadata": {
    "colab": {
     "base_uri": "https://localhost:8080/",
     "height": 102
    },
    "colab_type": "code",
    "id": "2_ibpLVdmhcl",
    "outputId": "e927fefd-3fba-43ae-fde6-416f75156ba6"
   },
   "outputs": [
    {
     "name": "stdout",
     "output_type": "stream",
     "text": [
      "Number of training examples = 34799\n",
      "Number of valid examples = 4410\n",
      "Number of testing examples = 12630\n",
      "Image data shape = (32, 32, 3)\n",
      "Number of classes = 43\n"
     ]
    }
   ],
   "source": [
    "### Replace each question mark with the appropriate value. \n",
    "### Use python, pandas or numpy methods rather than hard coding the results\n",
    "\n",
    "# TODO: Number of training examples\n",
    "n_train = len(X_train)\n",
    "\n",
    "# TODO: Number of validation examples\n",
    "n_validation = len(X_valid)\n",
    "\n",
    "# TODO: Number of testing examples.\n",
    "n_test = len(X_test)\n",
    "\n",
    "# TODO: What's the shape of an traffic sign image?\n",
    "image_shape = X_train[0].shape\n",
    "\n",
    "# TODO: How many unique classes/labels there are in the dataset.\n",
    "# n_classes = len(signnames)\n",
    "n_classes = np.unique(y_train).size;\n",
    "\n",
    "\n",
    "print(\"Number of training examples =\", n_train)\n",
    "print(\"Number of valid examples =\", n_validation)\n",
    "print(\"Number of testing examples =\", n_test)\n",
    "print(\"Image data shape =\", image_shape)\n",
    "print(\"Number of classes =\", n_classes)"
   ]
  },
  {
   "cell_type": "markdown",
   "metadata": {
    "colab_type": "raw",
    "id": "YFvlXLJZnDmu"
   },
   "source": []
  },
  {
   "cell_type": "markdown",
   "metadata": {
    "colab_type": "text",
    "id": "ct8mKCHSnDnH"
   },
   "source": [
    "# Visialize the Data\n",
    "View a sample from the dataset"
   ]
  },
  {
   "cell_type": "code",
   "execution_count": 3,
   "metadata": {
    "colab": {
     "base_uri": "https://localhost:8080/",
     "height": 123
    },
    "colab_type": "code",
    "id": "6A71MsL0nDnI",
    "outputId": "1e0c9c87-7ba6-45ee-ac9e-aa758fc3e5a2"
   },
   "outputs": [
    {
     "name": "stdout",
     "output_type": "stream",
     "text": [
      "9\n"
     ]
    },
    {
     "data": {
      "image/png": "[encoded data removed]",
      "text/plain": [
       "<Figure size 72x72 with 1 Axes>"
      ]
     },
     "metadata": {
      "tags": []
     },
     "output_type": "display_data"
    }
   ],
   "source": [
    "import random\n",
    "import matplotlib.pyplot as plt\n",
    "import numpy as np\n",
    "%matplotlib inline\n",
    "index = random.randint(0,len(X_train))\n",
    "image = X_train[index].squeeze()\n",
    "label = y_train[index]\n",
    "plt.figure(figsize=(1,1))\n",
    "plt.imshow(image)\n",
    "print(label)\n"
   ]
  },
  {
   "cell_type": "markdown",
   "metadata": {
    "colab_type": "text",
    "id": "CyB173Y5nDnV"
   },
   "source": [
    "## Setup TensorFlow\n",
    "The `EPOCH` and `BATCH_SIZE` values affect the training speed and model accuracy."
   ]
  },
  {
   "cell_type": "code",
   "execution_count": 0,
   "metadata": {
    "colab": {},
    "colab_type": "code",
    "id": "Z_rdvEWdnDnW"
   },
   "outputs": [],
   "source": [
    "import tensorflow as tf\n",
    "EPOCHS=50\n",
    "BATCH_SIZE=128"
   ]
  },
  {
   "cell_type": "markdown",
   "metadata": {
    "colab_type": "text",
    "id": "kvAG-B6AnDnY"
   },
   "source": [
    "## SOLUTION:  LeNet-5\n",
    "Implement the [LeNet-5](http://yann.lecun.com/exdb/lenet/) neural network architecture.\n",
    "\n",
    "\n",
    "### Input\n",
    "The LeNet architecture accepts a 32x32xC image as input, where C is the number of color channels. Since MNIST images are grayscale, C is 1 in this case.\n",
    "\n",
    "### Architecture\n",
    "**Layer 1: Convolutional.** The output shape should be 28x28x6.\n",
    "\n",
    "**Activation.** Relu activation function.\n",
    "\n",
    "**Pooling.** The output shape should be 14x14x6.\n",
    "\n",
    "**Layer 2: Convolutional.** The output shape should be 10x10x16.\n",
    "\n",
    "**Activation.** Relu activation function.\n",
    "\n",
    "**Pooling.** The output shape should be 5x5x16.\n",
    "\n",
    "**Flatten.** Flatten the output shape of the final pooling layer such that it's 1D instead of 3D. The easiest way to do is by using `tf.contrib.layers.flatten`, which is already imported for you.\n",
    "\n",
    "**Layer 3: Fully Connected.** This should have 120 outputs.\n",
    "\n",
    "**Activation.** Relu activation function.\n",
    "\n",
    "**Layer 4: Fully Connected.** This should have 84 outputs.\n",
    "\n",
    "**Activation.** Relu activation function.\n",
    "\n",
    "**Layer 5: Fully Connected (Logits).** This should have 10 outputs.\n",
    "\n",
    "### Output\n",
    "Return the result of the 2nd fully connected layer."
   ]
  },
  {
   "cell_type": "code",
   "execution_count": 0,
   "metadata": {
    "colab": {},
    "colab_type": "code",
    "id": "UzCvzN1onDnZ"
   },
   "outputs": [],
   "source": [
    "from tensorflow.contrib.layers import flatten\n",
    "\n",
    "def LeNet(x):\n",
    "    # Arguments used for tf.truncated_normal, randomly defines variables for the weights and biases for each layer\n",
    "    mu = 0\n",
    "    sigma = 0.1\n",
    "    #Layer 1 - Convolution Input 32x32x3, Output 28x28x6\n",
    "    conv1_W=tf.Variable(tf.truncated_normal(shape=(5,5,1,6),mean=mu,stddev=sigma))\n",
    "    conv1_b=tf.Variable(tf.zeros(6))\n",
    "    conv1=tf.nn.conv2d(x,conv1_W,strides=[1,1,1,1],padding='VALID')+conv1_b\n",
    "    \n",
    "    # Activation Relu\n",
    "    conv1=tf.nn.relu(conv1)\n",
    "    \n",
    "    #  Pooling. Input = 28x28x6. Output = 14x14x6.\n",
    "    conv1 = tf.nn.max_pool(conv1,ksize=[1,2,2,1],strides=[1,2,2,1],padding='VALID')\n",
    "    \n",
    "    \n",
    "     #Layer 2 - Convolution Input 14x14x6, Output 10x10x16\n",
    "    conv2_W=tf.Variable(tf.truncated_normal(shape=(5,5,6,16),mean=mu,stddev=sigma))\n",
    "    conv2_b=tf.Variable(tf.zeros(16))\n",
    "    conv2=tf.nn.conv2d(conv1,conv2_W,strides=[1,1,1,1],padding='VALID')+conv2_b\n",
    "    \n",
    "    # Activation Relu\n",
    "    conv2=tf.nn.relu(conv2)\n",
    "    \n",
    "    #  Pooling. Input = 10x10x16. Output = 5x5x16.\n",
    "    conv2 = tf.nn.max_pool(conv2,ksize=[1,2,2,1],strides=[1,2,2,1],padding='VALID')\n",
    "    \n",
    "    \n",
    "      #  Flatten. Input = 5x5x16. Output = 400.\n",
    "    fc0 = flatten(conv2)\n",
    "    \n",
    "    \n",
    "    #  Layer 3: Fully Connected. Input = 400. Output = 120.\n",
    "    fc1_W=tf.Variable(tf.truncated_normal(shape=(400,120),mean=mu,stddev=sigma))\n",
    "    fc1_b=tf.Variable(tf.zeros(120))\n",
    "    fc1=tf.matmul(fc0,fc1_W)+fc1_b\n",
    "    \n",
    "    \n",
    "    #Activation Relu\n",
    "    fc1=tf.nn.relu(fc1)\n",
    "    \n",
    "    \n",
    "    \n",
    "     #  Layer 4: Fully Connected. Input = 120. Output = 84.\n",
    "    fc2_W=tf.Variable(tf.truncated_normal(shape=(120,84),mean=mu,stddev=sigma))\n",
    "    fc2_b=tf.Variable(tf.zeros(84))\n",
    "    fc2=tf.matmul(fc1,fc2_W)+fc2_b\n",
    "    \n",
    "    \n",
    "    #Activation Relu\n",
    "    fc2=tf.nn.relu(fc2)\n",
    "    \n",
    "    \n",
    "     #  Layer 5: Fully Connected. Input = 84. Output = 10\n",
    "        \n",
    "    fc3_W=tf.Variable(tf.truncated_normal(shape=(84,43),mean=mu,stddev=sigma))\n",
    "    fc3_b=tf.Variable(tf.zeros(43))\n",
    "    logits=tf.matmul(fc2,fc3_W)+fc3_b\n",
    "    \n",
    "    return logits\n",
    "    "
   ]
  },
  {
   "cell_type": "markdown",
   "metadata": {
    "colab_type": "text",
    "id": "AXMrPWIznDnN"
   },
   "source": [
    "# Preprocess the data\n",
    " shuffle the tranning data"
   ]
  },
  {
   "cell_type": "code",
   "execution_count": 6,
   "metadata": {
    "colab": {
     "base_uri": "https://localhost:8080/",
     "height": 524
    },
    "colab_type": "code",
    "id": "f7b_CmsR67fi",
    "outputId": "b7851d5c-ef4a-4a87-f7ad-afd953391b64"
   },
   "outputs": [
    {
     "data": {
      "text/plain": [
       "(array([ 180., 1980., 2010., 1260., 1770., 1650.,  360., 1290., 1260.,\n",
       "        1320., 1800., 1170., 1890., 1920.,  690.,  540.,  360.,  990.,\n",
       "        1080.,  180.,  300.,  270.,  330.,  450.,  240., 1350.,  540.,\n",
       "         210.,  480.,  240.,  390.,  690.,  210.,  599.,  360., 1080.,\n",
       "         330.,  180., 1860.,  270.,  300.,  210.,  210.]),\n",
       " array([ 0.        ,  0.97674419,  1.95348837,  2.93023256,  3.90697674,\n",
       "         4.88372093,  5.86046512,  6.8372093 ,  7.81395349,  8.79069767,\n",
       "         9.76744186, 10.74418605, 11.72093023, 12.69767442, 13.6744186 ,\n",
       "        14.65116279, 15.62790698, 16.60465116, 17.58139535, 18.55813953,\n",
       "        19.53488372, 20.51162791, 21.48837209, 22.46511628, 23.44186047,\n",
       "        24.41860465, 25.39534884, 26.37209302, 27.34883721, 28.3255814 ,\n",
       "        29.30232558, 30.27906977, 31.25581395, 32.23255814, 33.20930233,\n",
       "        34.18604651, 35.1627907 , 36.13953488, 37.11627907, 38.09302326,\n",
       "        39.06976744, 40.04651163, 41.02325581, 42.        ]),\n",
       " <a list of 43 Patch objects>)"
      ]
     },
     "execution_count": 6,
     "metadata": {
      "tags": []
     },
     "output_type": "execute_result"
    },
    {
     "data": {
      "image/png": "[encoded data removed]",
      "text/plain": [
       "<Figure size 432x288 with 1 Axes>"
      ]
     },
     "metadata": {
      "tags": []
     },
     "output_type": "display_data"
    }
   ],
   "source": [
    "### Data exploration visualization code goes here.\n",
    "### Feel free to use as many code cells as needed.\n",
    "import matplotlib.pyplot as plt\n",
    "import numpy as np\n",
    "import random\n",
    "# Visualizations will be shown in the notebook.\n",
    "%matplotlib inline\n",
    "plt.hist(y_train, bins=43)"
   ]
  },
  {
   "cell_type": "code",
   "execution_count": 7,
   "metadata": {
    "colab": {
     "base_uri": "https://localhost:8080/",
     "height": 119
    },
    "colab_type": "code",
    "id": "D4S0z_RwcIUq",
    "outputId": "9be4940b-d5a1-4408-8772-76a84312be2d"
   },
   "outputs": [
    {
     "name": "stdout",
     "output_type": "stream",
     "text": [
      "[ 180 1980 2010 1260 1770 1650  360 1290 1260 1320 1800 1170 1890 1920\n",
      "  690  540  360  990 1080  180  300  270  330  450  240 1350  540  210\n",
      "  480  240  390  690  210  599  360 1080  330  180 1860  270  300  210\n",
      "  210]\n",
      "809\n",
      "Additional data generated..\n"
     ]
    }
   ],
   "source": [
    "from scipy import ndimage\n",
    "import random\n",
    "n_class = 43\n",
    "# Genrate Addtional Data\n",
    "\n",
    "images_in_class = np.bincount(y_train)\n",
    "print(images_in_class)\n",
    "\n",
    "# Find the mean \n",
    "images_mean = int(np.mean(images_in_class))\n",
    "print(images_mean)\n",
    "\n",
    "# Generating new data to balance the datasets\n",
    "#Angles used to rotate the images\n",
    "angles =[10,-10,15,-15,20,-20]\n",
    "\n",
    "# Iteate throught each classes\n",
    "for i in range(n_class):\n",
    "  if images_in_class[i]<images_mean:\n",
    "    #Find the delta\n",
    "    delta = images_mean-(images_in_class[i])\n",
    "    picture = np.where(y_train==i)\n",
    "    \n",
    "    more_X=[]\n",
    "    more_Y=[]\n",
    "\n",
    "\n",
    "    for num in range(delta):\n",
    "      \n",
    "      #rotate the image and add to more_X and class to more_y\n",
    "      more_X.append(ndimage.rotate(X_train[picture][random.randint(0,images_in_class[i]-1)],random.choice(angles),reshape=False))\n",
    "      #Appned the pictures generated back to each class to original data\n",
    "      more_Y.append(i)\n",
    "                    \n",
    "  X_train = np.append(X_train,np.array(more_X),axis=0)\n",
    "  y_train = np.append(y_train, np.array(more_Y),axis=0)\n",
    "# Addtional data genrated\n",
    "print('Additional data generated..')\n",
    "  "
   ]
  },
  {
   "cell_type": "code",
   "execution_count": 8,
   "metadata": {
    "colab": {
     "base_uri": "https://localhost:8080/",
     "height": 524
    },
    "colab_type": "code",
    "id": "31oNbprjiTqf",
    "outputId": "c907a185-c21e-4592-ed9a-53f92d3c3979"
   },
   "outputs": [
    {
     "data": {
      "text/plain": [
       "(array([3954., 1980., 2010., 1260., 1770., 1650., 3952., 1290., 1260.,\n",
       "        1320., 1800., 1170., 1890., 1920.,  809.,  809., 1707.,  990.,\n",
       "        1080.,  809.,  809.,  809.,  809.,  809., 1378., 1350.,  809.,\n",
       "         809.,  809.,  809.,  809.,  809.,  809.,  809., 1258., 1080.,\n",
       "         809., 1438., 1860.,  809.,  809.,  809.,  809.]),\n",
       " array([ 0.        ,  0.97674419,  1.95348837,  2.93023256,  3.90697674,\n",
       "         4.88372093,  5.86046512,  6.8372093 ,  7.81395349,  8.79069767,\n",
       "         9.76744186, 10.74418605, 11.72093023, 12.69767442, 13.6744186 ,\n",
       "        14.65116279, 15.62790698, 16.60465116, 17.58139535, 18.55813953,\n",
       "        19.53488372, 20.51162791, 21.48837209, 22.46511628, 23.44186047,\n",
       "        24.41860465, 25.39534884, 26.37209302, 27.34883721, 28.3255814 ,\n",
       "        29.30232558, 30.27906977, 31.25581395, 32.23255814, 33.20930233,\n",
       "        34.18604651, 35.1627907 , 36.13953488, 37.11627907, 38.09302326,\n",
       "        39.06976744, 40.04651163, 41.02325581, 42.        ]),\n",
       " <a list of 43 Patch objects>)"
      ]
     },
     "execution_count": 8,
     "metadata": {
      "tags": []
     },
     "output_type": "execute_result"
    },
    {
     "data": {
      "image/png": "[encoded data removed]",
      "text/plain": [
       "<Figure size 432x288 with 1 Axes>"
      ]
     },
     "metadata": {
      "tags": []
     },
     "output_type": "display_data"
    }
   ],
   "source": [
    "plt.hist(y_train, bins = 43)"
   ]
  },
  {
   "cell_type": "code",
   "execution_count": 0,
   "metadata": {
    "colab": {},
    "colab_type": "code",
    "id": "zbTeWhta3mnu"
   },
   "outputs": [],
   "source": [
    "## Preprocess the data\n",
    "import cv2\n",
    "def normalize(image_data):\n",
    "    return image_data.astype(np.float32)/128.-1.\n",
    "def grayscale(image):\n",
    "    image = cv2.cvtColor(image, cv2.COLOR_BGR2GRAY)\n",
    "    return image\n",
    "def preprocess(data):\n",
    "    gray_images=[]\n",
    "    for image in data:\n",
    "        gray_img=grayscale(image)\n",
    "        gray_images.append(gray_img)\n",
    "    print(\"Gray scale conversion completed\")\n",
    "    return np.array(gray_images)\n",
    "\n",
    "    "
   ]
  },
  {
   "cell_type": "code",
   "execution_count": 10,
   "metadata": {
    "colab": {
     "base_uri": "https://localhost:8080/",
     "height": 68
    },
    "colab_type": "code",
    "id": "dbacxivC3mnx",
    "outputId": "ea9c6285-9f1d-46c7-afef-777ec49f903f"
   },
   "outputs": [
    {
     "name": "stdout",
     "output_type": "stream",
     "text": [
      "Gray scale conversion completed\n",
      "Gray scale conversion completed\n",
      "Shape of Image = (32, 32, 1)\n"
     ]
    }
   ],
   "source": [
    "from numpy import newaxis\n",
    "X_train = preprocess(X_train)\n",
    "X_train = X_train[..., newaxis]\n",
    "x_train = normalize(X_train)\n",
    "\n",
    "X_test = preprocess(X_test)\n",
    "X_test = X_test[..., newaxis]\n",
    "X_test = normalize(X_test)\n",
    "\n",
    "# X_valid = preprocess(X_valid)\n",
    "# X_valid = X_valid[..., newaxis]\n",
    "# X_valid = normalize(X_valid)\n",
    "\n",
    "print(\"Shape of Image = {}\".format(X_train[0].shape))"
   ]
  },
  {
   "cell_type": "code",
   "execution_count": 11,
   "metadata": {
    "colab": {
     "base_uri": "https://localhost:8080/",
     "height": 85
    },
    "colab_type": "code",
    "id": "atYQ_I8-nDnS",
    "outputId": "6dbd7401-5c73-47bf-b193-5c875a7a7834"
   },
   "outputs": [
    {
     "name": "stdout",
     "output_type": "stream",
     "text": [
      "Dataset successfully split for training and validation.\n",
      "Number of training examples = 34799\n",
      "Number of valid examples = 4410\n",
      "Number of testing examples = 12630\n"
     ]
    }
   ],
   "source": [
    "# Splitting the training dataset into training and validation data\n",
    "from sklearn.model_selection import train_test_split\n",
    "from sklearn.utils import shuffle\n",
    "\n",
    "# Shuffle the data prior to splitting\n",
    "X_train, y_train = shuffle(X_train, y_train)\n",
    "\n",
    "X_train, X_valid, y_train, y_valid = train_test_split(X_train, y_train, stratify = y_train, test_size=0.1, random_state=23)\n",
    "\n",
    "print('Dataset successfully split for training and validation.')\n",
    "\n",
    "print(\"Number of training examples = {}\" .format(n_train))\n",
    "print(\"Number of valid examples = {}\" .format(n_validation))\n",
    "print(\"Number of testing examples = {}\" .format(n_test))\n"
   ]
  },
  {
   "cell_type": "markdown",
   "metadata": {
    "colab_type": "text",
    "id": "vP-OoMqWnDnc"
   },
   "source": [
    "## Features and Labels\n",
    "Train LeNet to classify [MNIST](http://yann.lecun.com/exdb/mnist/) data.\n",
    "\n",
    "`x` is a placeholder for a batch of input images.\n",
    "`y` is a placeholder for a batch of output labels.\n"
   ]
  },
  {
   "cell_type": "code",
   "execution_count": 0,
   "metadata": {
    "colab": {},
    "colab_type": "code",
    "id": "DiDdb230nDnc"
   },
   "outputs": [],
   "source": [
    "import tensorflow as tf\n",
    "x = tf.placeholder(tf.float32,shape=(None,32,32,1))\n",
    "y=tf.placeholder(tf.int32,None)\n",
    "one_hot_y=tf.one_hot(y,43)\n"
   ]
  },
  {
   "cell_type": "markdown",
   "metadata": {
    "colab_type": "text",
    "id": "UIkf-E0knDnm"
   },
   "source": [
    "## Training Pipeline\n",
    "Create a training pipeline that uses the model to classify MNIST data."
   ]
  },
  {
   "cell_type": "code",
   "execution_count": 13,
   "metadata": {
    "colab": {
     "base_uri": "https://localhost:8080/",
     "height": 144
    },
    "colab_type": "code",
    "id": "IvK4QA-GnDnt",
    "outputId": "c8fe3ec5-512f-4dab-9c48-7fa917bf28d3"
   },
   "outputs": [
    {
     "name": "stdout",
     "output_type": "stream",
     "text": [
      "WARNING:tensorflow:From /usr/local/lib/python3.6/dist-packages/tensorflow/python/framework/op_def_library.py:263: colocate_with (from tensorflow.python.framework.ops) is deprecated and will be removed in a future version.\n",
      "Instructions for updating:\n",
      "Colocations handled automatically by placer.\n",
      "WARNING:tensorflow:From /usr/local/lib/python3.6/dist-packages/tensorflow/contrib/layers/python/layers/layers.py:1624: flatten (from tensorflow.python.layers.core) is deprecated and will be removed in a future version.\n",
      "Instructions for updating:\n",
      "Use keras.layers.flatten instead.\n"
     ]
    }
   ],
   "source": [
    "learning_rate=0.001\n",
    "logits = LeNet(x)\n",
    "cross_entropy =tf.nn.softmax_cross_entropy_with_logits_v2(logits=logits,labels=one_hot_y)\n",
    "loss_operation = tf.reduce_mean(cross_entropy)\n",
    "optimizer = tf.train.AdamOptimizer(learning_rate=learning_rate)\n",
    "training_operation = optimizer.minimize(loss_operation)"
   ]
  },
  {
   "cell_type": "markdown",
   "metadata": {
    "colab_type": "text",
    "id": "xUtrYsuLnDnx"
   },
   "source": [
    "# Model Evaluation\n",
    "Evaluate how well the loss and accuracy of the model for a given dataset.\n"
   ]
  },
  {
   "cell_type": "code",
   "execution_count": 0,
   "metadata": {
    "colab": {},
    "colab_type": "code",
    "id": "HjlCdBPwnDnx"
   },
   "outputs": [],
   "source": [
    "correct_prediction = tf.equal(tf.argmax(logits,1),tf.argmax(one_hot_y,1))\n",
    "accuracy_operation = tf.reduce_mean(tf.cast(correct_prediction,tf.float32))\n",
    "\n",
    "def evaluate(X_data, y_data,batch_size):\n",
    "    num_examples = len(X_data)\n",
    "    total_accuracy = 0\n",
    "    total_loss = 0.0\n",
    "    sess = tf.get_default_session()\n",
    "    \n",
    "    for offset in range(0, num_examples, batch_size):\n",
    "        batch_x, batch_y = X_data[offset:offset+batch_size], y_data[offset:offset+batch_size]\n",
    "        # Compute both accuracy and loss for this batch\n",
    "        accuracy = sess.run(accuracy_operation,\n",
    "                            feed_dict={x: batch_x, y: batch_y}\n",
    "                           )\n",
    "        \n",
    "        loss = sess.run(loss_operation,\n",
    "                        feed_dict={x: batch_x, y: batch_y}\n",
    "                       )\n",
    "        # Weighting accuracy by the total number of elements in batch\n",
    "        total_accuracy += (accuracy * len(batch_x))\n",
    "        total_loss += (loss * len(batch_x))\n",
    "        \n",
    "    # To produce a true mean accuracy over whole dataset\n",
    "    return (total_accuracy / num_examples,total_loss/num_examples)\n",
    "             "
   ]
  },
  {
   "cell_type": "markdown",
   "metadata": {
    "colab_type": "text",
    "id": "TTzU6SXknDnz"
   },
   "source": [
    "## Train the Model\n",
    "Run the training data through the training pipeline to train the model.\n",
    "\n",
    "Before each epoch, shuffle the training set.\n",
    "\n",
    "After each epoch, measure the loss and accuracy of the validation set.\n",
    "\n",
    "Save the model after training."
   ]
  },
  {
   "cell_type": "code",
   "execution_count": 0,
   "metadata": {
    "colab": {},
    "colab_type": "code",
    "id": "eqhUIzYi1fPx"
   },
   "outputs": [],
   "source": [
    " "
   ]
  },
  {
   "cell_type": "code",
   "execution_count": 0,
   "metadata": {
    "colab": {},
    "colab_type": "code",
    "id": "RKxfkdSK17bh"
   },
   "outputs": [],
   "source": [
    "def train_model(X_train_features,y_train_labels,X_valid_features,y_valid_labels,batch_size,epochs=10,print_freq=1):\n",
    "  # Create our array of metrics    \n",
    "  training_metrics = np.zeros((epochs, 3))\n",
    "  validation_metrics = np.zeros((epochs, 3))\n",
    "  with tf.Session() as sess:\n",
    "    \n",
    "    sess.run(tf.global_variables_initializer())\n",
    "    num_examples = len(X_train_features)\n",
    "    \n",
    "    print(\"Training {0} [epochs={1}, batch_size={2}]...\\n\".format(\"Tranning\", epochs, batch_size))\n",
    "\n",
    "    for i in range(epochs):\n",
    "      start_time=time.time()\n",
    "      \n",
    "      X_train, y_train = shuffle(X_train_features, y_train_labels)\n",
    "      for offset in range(0, num_examples, batch_size):\n",
    "          end = offset + batch_size\n",
    "          batch_x, batch_y = X_train[offset:end], y_train[offset:end]\n",
    "          sess.run(training_operation, feed_dict={x: batch_x, y: batch_y})\n",
    "      end_training_time = time.time()\n",
    "      training_duration = end_training_time - start_time\n",
    "      \n",
    "      end_epoch_time = time.time()            \n",
    "      validation_duration = end_epoch_time - end_training_time   \n",
    "      epoch_duration = end_epoch_time - start_time\n",
    "          \n",
    "     \n",
    "      #Computing Tranning accuracy and tranning loss\n",
    "      training_accuracy,training_loss = evaluate(X_train, y_train,batch_size)\n",
    "      validation_accuracy,validation_loss = evaluate(X_valid_features, y_valid_labels,batch_size)\n",
    "      \n",
    "      if i==0 or (i+1)%print_freq==0:\n",
    "         print(\"[{0}]\\ttotal={1:.3f}s | train: time={2:.3f}s, loss={3:.4f}, acc={4:.4f} | val: time={5:.3f}s, loss={6:.4f}, acc={7:.4f}\".format(\n",
    "                          i+1, epoch_duration, training_duration, training_loss, training_accuracy, \n",
    "                        validation_duration, validation_loss, validation_accuracy))\n",
    "      training_metrics[i] = [training_duration, training_loss, training_accuracy]\n",
    "      validation_metrics[i] = [validation_duration, validation_loss, validation_accuracy]\n",
    "#       print(\"EPOCH {} ...\".format(i+1))\n",
    "#       print(\"Validation Accuracy = {:.3f} \".format(validation_accuracy))\n",
    "#       print(\"Loss = {:.3f} \".format(tranning_loss))\n",
    "#       print()\n",
    "\n",
    "  return (training_metrics, validation_metrics, epoch_duration)\n"
   ]
  },
  {
   "cell_type": "code",
   "execution_count": 16,
   "metadata": {
    "colab": {
     "base_uri": "https://localhost:8080/",
     "height": 1751
    },
    "colab_type": "code",
    "id": "fH_es22w-wGS",
    "outputId": "ec9af908-5512-4b04-be66-07faaa43b51f"
   },
   "outputs": [
    {
     "name": "stdout",
     "output_type": "stream",
     "text": [
      "Training Tranning [epochs=100, batch_size=128]...\n",
      "\n",
      "[1]\ttotal=2.830s | train: time=2.830s, loss=0.4557, acc=0.8767 | val: time=0.000s, loss=0.5278, acc=0.8610\n",
      "[2]\ttotal=0.956s | train: time=0.956s, loss=0.1944, acc=0.9491 | val: time=0.000s, loss=0.2655, acc=0.9343\n",
      "[3]\ttotal=1.007s | train: time=1.007s, loss=0.1086, acc=0.9713 | val: time=0.000s, loss=0.1844, acc=0.9584\n",
      "[4]\ttotal=1.026s | train: time=1.026s, loss=0.0892, acc=0.9763 | val: time=0.000s, loss=0.1528, acc=0.9644\n",
      "[5]\ttotal=1.010s | train: time=1.010s, loss=0.0586, acc=0.9847 | val: time=0.000s, loss=0.1280, acc=0.9739\n",
      "[6]\ttotal=1.046s | train: time=1.046s, loss=0.0722, acc=0.9798 | val: time=0.000s, loss=0.1508, acc=0.9658\n",
      "[7]\ttotal=0.962s | train: time=0.962s, loss=0.0515, acc=0.9855 | val: time=0.000s, loss=0.1229, acc=0.9734\n",
      "[8]\ttotal=0.964s | train: time=0.964s, loss=0.0538, acc=0.9854 | val: time=0.000s, loss=0.1416, acc=0.9721\n",
      "[9]\ttotal=0.998s | train: time=0.998s, loss=0.0410, acc=0.9881 | val: time=0.000s, loss=0.1319, acc=0.9759\n",
      "[10]\ttotal=1.032s | train: time=1.032s, loss=0.0522, acc=0.9858 | val: time=0.000s, loss=0.1211, acc=0.9743\n",
      "[11]\ttotal=1.028s | train: time=1.028s, loss=0.0219, acc=0.9943 | val: time=0.000s, loss=0.0872, acc=0.9806\n",
      "[12]\ttotal=1.023s | train: time=1.023s, loss=0.0225, acc=0.9946 | val: time=0.000s, loss=0.1006, acc=0.9809\n",
      "[13]\ttotal=1.013s | train: time=1.013s, loss=0.0175, acc=0.9954 | val: time=0.000s, loss=0.0880, acc=0.9820\n",
      "[14]\ttotal=1.007s | train: time=1.007s, loss=0.0442, acc=0.9880 | val: time=0.000s, loss=0.1381, acc=0.9730\n",
      "[15]\ttotal=1.019s | train: time=1.019s, loss=0.0162, acc=0.9959 | val: time=0.000s, loss=0.0790, acc=0.9842\n",
      "[16]\ttotal=0.991s | train: time=0.991s, loss=0.0334, acc=0.9904 | val: time=0.000s, loss=0.0912, acc=0.9804\n",
      "[17]\ttotal=1.019s | train: time=1.019s, loss=0.0650, acc=0.9850 | val: time=0.000s, loss=0.1237, acc=0.9757\n",
      "[18]\ttotal=0.996s | train: time=0.996s, loss=0.0139, acc=0.9965 | val: time=0.000s, loss=0.0856, acc=0.9860\n",
      "[19]\ttotal=1.012s | train: time=1.012s, loss=0.0756, acc=0.9816 | val: time=0.000s, loss=0.1688, acc=0.9710\n",
      "[20]\ttotal=0.973s | train: time=0.973s, loss=0.0159, acc=0.9960 | val: time=0.000s, loss=0.0800, acc=0.9854\n",
      "[21]\ttotal=0.962s | train: time=0.962s, loss=0.0243, acc=0.9938 | val: time=0.000s, loss=0.1166, acc=0.9824\n",
      "[22]\ttotal=0.952s | train: time=0.952s, loss=0.0392, acc=0.9903 | val: time=0.000s, loss=0.1138, acc=0.9797\n",
      "[23]\ttotal=1.070s | train: time=1.070s, loss=0.0200, acc=0.9944 | val: time=0.000s, loss=0.0951, acc=0.9847\n",
      "[24]\ttotal=1.120s | train: time=1.120s, loss=0.0246, acc=0.9941 | val: time=0.000s, loss=0.1091, acc=0.9827\n",
      "[25]\ttotal=1.115s | train: time=1.115s, loss=0.0157, acc=0.9960 | val: time=0.000s, loss=0.1010, acc=0.9852\n",
      "[26]\ttotal=1.091s | train: time=1.091s, loss=0.0081, acc=0.9976 | val: time=0.000s, loss=0.0842, acc=0.9878\n",
      "[27]\ttotal=1.043s | train: time=1.043s, loss=0.0196, acc=0.9956 | val: time=0.000s, loss=0.1277, acc=0.9818\n",
      "[28]\ttotal=0.917s | train: time=0.917s, loss=0.0076, acc=0.9978 | val: time=0.000s, loss=0.0944, acc=0.9867\n",
      "[29]\ttotal=0.967s | train: time=0.967s, loss=0.0241, acc=0.9942 | val: time=0.000s, loss=0.1403, acc=0.9827\n",
      "[30]\ttotal=0.965s | train: time=0.965s, loss=0.0105, acc=0.9972 | val: time=0.000s, loss=0.1159, acc=0.9883\n",
      "[31]\ttotal=0.963s | train: time=0.963s, loss=0.0148, acc=0.9961 | val: time=0.000s, loss=0.1105, acc=0.9833\n",
      "[32]\ttotal=0.995s | train: time=0.995s, loss=0.0185, acc=0.9957 | val: time=0.000s, loss=0.1191, acc=0.9847\n",
      "[33]\ttotal=0.963s | train: time=0.963s, loss=0.0491, acc=0.9905 | val: time=0.000s, loss=0.1636, acc=0.9809\n",
      "[34]\ttotal=0.967s | train: time=0.967s, loss=0.0215, acc=0.9954 | val: time=0.000s, loss=0.1309, acc=0.9833\n",
      "[35]\ttotal=0.973s | train: time=0.973s, loss=0.0206, acc=0.9960 | val: time=0.000s, loss=0.1138, acc=0.9845\n",
      "[36]\ttotal=0.960s | train: time=0.960s, loss=0.0103, acc=0.9975 | val: time=0.000s, loss=0.1264, acc=0.9854\n",
      "[37]\ttotal=1.014s | train: time=1.014s, loss=0.0195, acc=0.9962 | val: time=0.000s, loss=0.1161, acc=0.9867\n",
      "[38]\ttotal=0.917s | train: time=0.917s, loss=0.0321, acc=0.9942 | val: time=0.000s, loss=0.1620, acc=0.9802\n",
      "[39]\ttotal=0.960s | train: time=0.960s, loss=0.0180, acc=0.9959 | val: time=0.000s, loss=0.1310, acc=0.9847\n",
      "[40]\ttotal=0.954s | train: time=0.954s, loss=0.0219, acc=0.9950 | val: time=0.000s, loss=0.1336, acc=0.9847\n",
      "[41]\ttotal=0.972s | train: time=0.972s, loss=0.0124, acc=0.9975 | val: time=0.000s, loss=0.1058, acc=0.9867\n",
      "[42]\ttotal=0.944s | train: time=0.944s, loss=0.0057, acc=0.9988 | val: time=0.000s, loss=0.0993, acc=0.9890\n",
      "[43]\ttotal=0.947s | train: time=0.947s, loss=0.0333, acc=0.9932 | val: time=0.000s, loss=0.1668, acc=0.9818\n",
      "[44]\ttotal=0.957s | train: time=0.957s, loss=0.0181, acc=0.9962 | val: time=0.000s, loss=0.1221, acc=0.9856\n",
      "[45]\ttotal=0.960s | train: time=0.960s, loss=0.0510, acc=0.9918 | val: time=0.000s, loss=0.2358, acc=0.9773\n",
      "[46]\ttotal=0.915s | train: time=0.915s, loss=0.0131, acc=0.9972 | val: time=0.000s, loss=0.1197, acc=0.9874\n",
      "[47]\ttotal=0.924s | train: time=0.924s, loss=0.0360, acc=0.9942 | val: time=0.000s, loss=0.1725, acc=0.9811\n",
      "[48]\ttotal=0.936s | train: time=0.936s, loss=0.0212, acc=0.9966 | val: time=0.000s, loss=0.1436, acc=0.9861\n",
      "[49]\ttotal=0.923s | train: time=0.923s, loss=0.0315, acc=0.9943 | val: time=0.000s, loss=0.1372, acc=0.9827\n",
      "[50]\ttotal=0.909s | train: time=0.909s, loss=0.0036, acc=0.9991 | val: time=0.000s, loss=0.0901, acc=0.9897\n",
      "[51]\ttotal=0.940s | train: time=0.940s, loss=0.0129, acc=0.9970 | val: time=0.000s, loss=0.1331, acc=0.9843\n",
      "[52]\ttotal=0.928s | train: time=0.928s, loss=0.0060, acc=0.9987 | val: time=0.000s, loss=0.1157, acc=0.9892\n",
      "[53]\ttotal=0.935s | train: time=0.935s, loss=0.0172, acc=0.9970 | val: time=0.000s, loss=0.1290, acc=0.9856\n",
      "[54]\ttotal=0.917s | train: time=0.917s, loss=0.0274, acc=0.9958 | val: time=0.000s, loss=0.1924, acc=0.9838\n",
      "[55]\ttotal=0.937s | train: time=0.937s, loss=0.0139, acc=0.9968 | val: time=0.000s, loss=0.1347, acc=0.9860\n",
      "[56]\ttotal=0.932s | train: time=0.932s, loss=0.0698, acc=0.9926 | val: time=0.000s, loss=0.2478, acc=0.9788\n",
      "[57]\ttotal=0.924s | train: time=0.924s, loss=0.0152, acc=0.9970 | val: time=0.000s, loss=0.1388, acc=0.9854\n",
      "[58]\ttotal=0.921s | train: time=0.921s, loss=0.0075, acc=0.9987 | val: time=0.000s, loss=0.0864, acc=0.9883\n",
      "[59]\ttotal=0.928s | train: time=0.928s, loss=0.0142, acc=0.9977 | val: time=0.000s, loss=0.1293, acc=0.9896\n",
      "[60]\ttotal=1.020s | train: time=1.020s, loss=0.0234, acc=0.9962 | val: time=0.000s, loss=0.1539, acc=0.9874\n",
      "[61]\ttotal=1.013s | train: time=1.013s, loss=0.0105, acc=0.9980 | val: time=0.000s, loss=0.1573, acc=0.9878\n",
      "[62]\ttotal=1.027s | train: time=1.027s, loss=0.0293, acc=0.9952 | val: time=0.000s, loss=0.1674, acc=0.9834\n",
      "[63]\ttotal=1.010s | train: time=1.010s, loss=0.0209, acc=0.9966 | val: time=0.000s, loss=0.1153, acc=0.9870\n",
      "[64]\ttotal=0.920s | train: time=0.920s, loss=0.0197, acc=0.9964 | val: time=0.000s, loss=0.1580, acc=0.9867\n",
      "[65]\ttotal=0.916s | train: time=0.916s, loss=0.0092, acc=0.9983 | val: time=0.000s, loss=0.1555, acc=0.9876\n",
      "[66]\ttotal=0.928s | train: time=0.928s, loss=0.0116, acc=0.9978 | val: time=0.000s, loss=0.1324, acc=0.9887\n",
      "[67]\ttotal=0.945s | train: time=0.945s, loss=0.0040, acc=0.9992 | val: time=0.000s, loss=0.1171, acc=0.9914\n",
      "[68]\ttotal=0.925s | train: time=0.925s, loss=0.0070, acc=0.9986 | val: time=0.000s, loss=0.0971, acc=0.9894\n",
      "[69]\ttotal=0.982s | train: time=0.982s, loss=0.0098, acc=0.9981 | val: time=0.000s, loss=0.1522, acc=0.9881\n",
      "[70]\ttotal=0.924s | train: time=0.924s, loss=0.0266, acc=0.9957 | val: time=0.000s, loss=0.1720, acc=0.9854\n",
      "[71]\ttotal=0.920s | train: time=0.920s, loss=0.0136, acc=0.9972 | val: time=0.000s, loss=0.1215, acc=0.9885\n",
      "[72]\ttotal=0.945s | train: time=0.945s, loss=0.0135, acc=0.9973 | val: time=0.000s, loss=0.1336, acc=0.9879\n",
      "[73]\ttotal=0.919s | train: time=0.919s, loss=0.0085, acc=0.9985 | val: time=0.000s, loss=0.1461, acc=0.9888\n",
      "[74]\ttotal=0.918s | train: time=0.918s, loss=0.0160, acc=0.9968 | val: time=0.000s, loss=0.1324, acc=0.9881\n",
      "[75]\ttotal=0.936s | train: time=0.936s, loss=0.0505, acc=0.9929 | val: time=0.000s, loss=0.2385, acc=0.9807\n",
      "[76]\ttotal=0.918s | train: time=0.918s, loss=0.0088, acc=0.9982 | val: time=0.000s, loss=0.1631, acc=0.9881\n",
      "[77]\ttotal=0.970s | train: time=0.970s, loss=0.0060, acc=0.9988 | val: time=0.000s, loss=0.1694, acc=0.9872\n",
      "[78]\ttotal=0.954s | train: time=0.954s, loss=0.0249, acc=0.9969 | val: time=0.000s, loss=0.2256, acc=0.9840\n",
      "[79]\ttotal=0.957s | train: time=0.957s, loss=0.0678, acc=0.9918 | val: time=0.000s, loss=0.2213, acc=0.9815\n",
      "[80]\ttotal=0.952s | train: time=0.952s, loss=0.0137, acc=0.9980 | val: time=0.000s, loss=0.1851, acc=0.9879\n",
      "[81]\ttotal=0.928s | train: time=0.928s, loss=0.0153, acc=0.9977 | val: time=0.000s, loss=0.1522, acc=0.9883\n",
      "[82]\ttotal=0.926s | train: time=0.926s, loss=0.0396, acc=0.9950 | val: time=0.000s, loss=0.2805, acc=0.9842\n",
      "[83]\ttotal=0.932s | train: time=0.932s, loss=0.0068, acc=0.9990 | val: time=0.000s, loss=0.1345, acc=0.9906\n",
      "[84]\ttotal=0.986s | train: time=0.986s, loss=0.0192, acc=0.9979 | val: time=0.000s, loss=0.1963, acc=0.9899\n",
      "[85]\ttotal=0.948s | train: time=0.948s, loss=0.0491, acc=0.9946 | val: time=0.000s, loss=0.2425, acc=0.9849\n",
      "[86]\ttotal=0.960s | train: time=0.960s, loss=0.0111, acc=0.9984 | val: time=0.000s, loss=0.1301, acc=0.9910\n",
      "[87]\ttotal=0.924s | train: time=0.924s, loss=0.0116, acc=0.9989 | val: time=0.000s, loss=0.1399, acc=0.9896\n",
      "[88]\ttotal=0.947s | train: time=0.947s, loss=0.0068, acc=0.9991 | val: time=0.000s, loss=0.1574, acc=0.9912\n",
      "[89]\ttotal=0.952s | train: time=0.952s, loss=0.0408, acc=0.9960 | val: time=0.000s, loss=0.2511, acc=0.9854\n",
      "[90]\ttotal=0.945s | train: time=0.945s, loss=0.0567, acc=0.9927 | val: time=0.000s, loss=0.2504, acc=0.9811\n",
      "[91]\ttotal=0.937s | train: time=0.937s, loss=0.0148, acc=0.9986 | val: time=0.000s, loss=0.1864, acc=0.9903\n",
      "[92]\ttotal=1.027s | train: time=1.027s, loss=0.0032, acc=0.9993 | val: time=0.000s, loss=0.1696, acc=0.9896\n",
      "[93]\ttotal=1.064s | train: time=1.064s, loss=0.0159, acc=0.9979 | val: time=0.000s, loss=0.1435, acc=0.9887\n",
      "[94]\ttotal=1.023s | train: time=1.023s, loss=0.0098, acc=0.9987 | val: time=0.000s, loss=0.1827, acc=0.9881\n",
      "[95]\ttotal=0.920s | train: time=0.920s, loss=0.0305, acc=0.9960 | val: time=0.000s, loss=0.2072, acc=0.9836\n",
      "[96]\ttotal=0.910s | train: time=0.910s, loss=0.0297, acc=0.9966 | val: time=0.000s, loss=0.2165, acc=0.9867\n",
      "[97]\ttotal=1.006s | train: time=1.006s, loss=0.0024, acc=0.9996 | val: time=0.000s, loss=0.1313, acc=0.9923\n",
      "[98]\ttotal=1.020s | train: time=1.020s, loss=0.1194, acc=0.9880 | val: time=0.000s, loss=0.4459, acc=0.9748\n",
      "[99]\ttotal=1.009s | train: time=1.009s, loss=0.0112, acc=0.9982 | val: time=0.000s, loss=0.2587, acc=0.9869\n",
      "[100]\ttotal=1.005s | train: time=1.005s, loss=0.0088, acc=0.9988 | val: time=0.000s, loss=0.1564, acc=0.9888\n"
     ]
    }
   ],
   "source": [
    "import time\n",
    "# (g_3x3_tr_metrics, g_3x3_val_metrics, g_3x3_duration) = me_g_3x3.train_model(X_train_grayscale, y_train, X_valid_grayscale, y_valid, epochs=100)\n",
    "(g_3x3_tr_metrics, g_3x3_val_metrics, g_3x3_duration)=train_model(X_train_features=X_train,y_train_labels=y_train,X_valid_features=X_valid,y_valid_labels=y_valid,batch_size=BATCH_SIZE,epochs=100)\n",
    "\n",
    "\n",
    "\n"
   ]
  },
  {
   "cell_type": "code",
   "execution_count": 0,
   "metadata": {
    "colab": {},
    "colab_type": "code",
    "id": "lQkSxwENMi08"
   },
   "outputs": [],
   "source": [
    "def plot_model_results(metrics, axes, lbs, xlb, ylb, titles, fig_title, fig_size=(7, 5), epochs_interval=10):\n",
    "    \"\"\"\n",
    "    Nifty utility function to plot results of the execution of our model\n",
    "    \"\"\"\n",
    "    fig, axs = plt.subplots(nrows=1, ncols=len(axes), figsize=fig_size)\n",
    "    print(\"Length of axis: {0}\".format(axs.shape))\n",
    "    \n",
    "    total_epochs = metrics[0].shape[0]\n",
    "    print('total_epochs:::',total_epochs)\n",
    "    x_values = np.linspace(1, total_epochs, num=total_epochs, dtype=np.int32)\n",
    "    \n",
    "    for m, l in zip(metrics, lbs):\n",
    "        for i in range(0, len(axes)):\n",
    "            ax = axs[i]\n",
    "            axis = axes[i]\n",
    "            ax.plot(x_values, m[:, axis], linewidth=2, label=l)\n",
    "            ax.set(xlabel=xlb[i], ylabel=ylb[i], title=titles[i])\n",
    "            ax.xaxis.set_ticks(np.linspace(1, total_epochs, num=int(total_epochs/epochs_interval), dtype=np.int32))\n",
    "            ax.legend(loc='center right')\n",
    "    \n",
    "    plt.suptitle(fig_title, fontsize=14, fontweight='bold')\n",
    "    plt.show()\n",
    "\n"
   ]
  },
  {
   "cell_type": "code",
   "execution_count": 18,
   "metadata": {
    "colab": {
     "base_uri": "https://localhost:8080/",
     "height": 424
    },
    "colab_type": "code",
    "id": "D4wptg74LN_x",
    "outputId": "655d710e-1d5d-43d0-f771-6c86eb740484"
   },
   "outputs": [
    {
     "name": "stdout",
     "output_type": "stream",
     "text": [
      "Length of axis: (2,)\n",
      "total_epochs::: 100\n"
     ]
    },
    {
     "data": {
      "image/png": "[encoded data removed]",
      "text/plain": [
       "<Figure size 1224x360 with 2 Axes>"
      ]
     },
     "metadata": {
      "tags": []
     },
     "output_type": "display_data"
    }
   ],
   "source": [
    "metrics_arr = [g_3x3_tr_metrics,g_3x3_val_metrics]\n",
    "# print(g_3x3_val_metrics)\n",
    "matrics_lables = [\"3x3 Tranning\",\"3x3 Validation\"]\n",
    "plot_model_results(metrics_arr, [2, 1], matrics_lables, [\"Epochs\", \"Epochs\"], [\"Accuracy\", \"Loss\"], \n",
    "                   [\"Accuracy vs Epochs\", \n",
    "                    \"Loss vs Epochs\"],\n",
    "                   \"Color  - Accuracy and Loss of models on sample set\"\n",
    "                    , fig_size=(17, 5))     "
   ]
  },
  {
   "cell_type": "code",
   "execution_count": 0,
   "metadata": {
    "colab": {},
    "colab_type": "code",
    "id": "hQGs4OwKnDn0"
   },
   "outputs": [],
   "source": []
  },
  {
   "cell_type": "code",
   "execution_count": 0,
   "metadata": {
    "colab": {},
    "colab_type": "code",
    "id": "_4SjCm1PnDn3"
   },
   "outputs": [],
   "source": []
  }
 ],
 "metadata": {
  "accelerator": "GPU",
  "colab": {
   "name": "traffic_sign_classifier.ipynb",
   "provenance": [],
   "toc_visible": true,
   "version": "0.3.2"
  },
  "kernelspec": {
   "display_name": "Python 3",
   "language": "python",
   "name": "python3"
  },
  "language_info": {
   "codemirror_mode": {
    "name": "ipython",
    "version": 3
   },
   "file_extension": ".py",
   "mimetype": "text/x-python",
   "name": "python",
   "nbconvert_exporter": "python",
   "pygments_lexer": "ipython3",
   "version": "3.5.2"
  },
  "widgets": {
   "state": {},
   "version": "1.1.2"
  }
 },
 "nbformat": 4,
 "nbformat_minor": 1
}
