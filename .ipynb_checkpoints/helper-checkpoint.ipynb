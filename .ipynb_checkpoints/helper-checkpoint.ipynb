{
 "cells": [
  {
   "cell_type": "code",
   "execution_count": 5,
   "metadata": {},
   "outputs": [],
   "source": [
    "import pandas as pd\n",
    "def group_img_id_to_lable(labels_id,lables_name):\n",
    "    print('Hi:::::::::::::')\n",
    "    arr_map = []\n",
    "    for i in range(0, labels_id.shape[0]):\n",
    "        label_id = labels_id[i]\n",
    "        label_name = lables_name[lables_name[\"ClassId\"] == labels_id][\"SignName\"].values[0]\n",
    "        arr_map.append({\"img_id\": i, \"label_id\": label_id, \"label_name\": label_name})\n",
    "    \n",
    "    return pd.DataFrame(arr_map)\n",
    "        \n",
    "    "
   ]
  },
  {
   "cell_type": "code",
   "execution_count": null,
   "metadata": {},
   "outputs": [],
   "source": []
  },
  {
   "cell_type": "code",
   "execution_count": null,
   "metadata": {},
   "outputs": [],
   "source": []
  }
 ],
 "metadata": {
  "kernelspec": {
   "display_name": "Python 3",
   "language": "python",
   "name": "python3"
  },
  "language_info": {
   "codemirror_mode": {
    "name": "ipython",
    "version": 3
   },
   "file_extension": ".py",
   "mimetype": "text/x-python",
   "name": "python",
   "nbconvert_exporter": "python",
   "pygments_lexer": "ipython3",
   "version": "3.5.2"
  },
  "widgets": {
   "state": {},
   "version": "1.1.2"
  }
 },
 "nbformat": 4,
 "nbformat_minor": 2
}
